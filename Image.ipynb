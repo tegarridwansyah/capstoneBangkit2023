{
 "cells": [
  {
   "cell_type": "code",
   "execution_count": 1,
   "metadata": {},
   "outputs": [],
   "source": [
    "import requests\n",
    "from bs4 import BeautifulSoup\n",
    "import os"
   ]
  },
  {
   "cell_type": "code",
   "execution_count": 2,
   "metadata": {},
   "outputs": [],
   "source": [
    "def getData(url):\n",
    "    r = requests.get(url=url)\n",
    "    return r.text"
   ]
  },
  {
   "cell_type": "code",
   "execution_count": 3,
   "metadata": {},
   "outputs": [
    {
     "name": "stdout",
     "output_type": "stream",
     "text": [
      "//in.getclicky.com/101371808ns.gif\n",
      "/assets/Uploads/site-age-specific/wrinkles1__ProtectWyJQcm90ZWN0Il0_FocusFillWzI5NCwyMjIsIngiLDFd.jpg\n",
      "/assets/Uploads/site-age-specific/wrinkles2__ProtectWyJQcm90ZWN0Il0_FocusFillWzI5NCwyMjIsIngiLDFd.jpg\n",
      "/assets/Uploads/site-age-specific/wrinkles3__ProtectWyJQcm90ZWN0Il0_FocusFillWzI5NCwyMjIsIngiLDFd.jpg\n",
      "/assets/Uploads/site-age-specific/wrinkles4__ProtectWyJQcm90ZWN0Il0_FocusFillWzI5NCwyMjIsIngiLDFd.jpg\n",
      "/assets/Uploads/site-age-specific/wrinkles5__ProtectWyJQcm90ZWN0Il0_FocusFillWzI5NCwyMjIsIngiLDFd.jpg\n",
      "/assets/Uploads/site-age-specific/wrinkles6__ProtectWyJQcm90ZWN0Il0_FocusFillWzI5NCwyMjIsIngiLDFd.jpg\n"
     ]
    },
    {
     "data": {
      "text/plain": [
       "7"
      ]
     },
     "execution_count": 3,
     "metadata": {},
     "output_type": "execute_result"
    }
   ],
   "source": [
    "url = 'https://dermnetnz.org/topics/facial-lines-and-wrinkles'\n",
    "htmldata = getData(url)\n",
    "soup = BeautifulSoup(htmldata, 'html.parser')\n",
    "link_image = []\n",
    "for item in soup.find_all('img'):\n",
    "    try:\n",
    "        link_image.append(item['src'])\n",
    "        print(item['src'])\n",
    "    except:\n",
    "        continue\n",
    "len(link_image)"
   ]
  },
  {
   "cell_type": "code",
   "execution_count": 5,
   "metadata": {},
   "outputs": [
    {
     "name": "stdout",
     "output_type": "stream",
     "text": [
      "Done 1\n",
      "Done 2\n",
      "Done 3\n",
      "Done 4\n",
      "Done 5\n",
      "Done 6\n"
     ]
    }
   ],
   "source": [
    "image_dir = 'Kerutan/'\n",
    "n = 1\n",
    "for i in link_image[1:]:\n",
    "    response = requests.get('https://dermnetnz.org' + i)\n",
    "    loc = image_dir  + os.path.basename(i) + '.jpg'\n",
    "    with open(loc, 'wb') as file:\n",
    "        file.write(response.content)\n",
    "    print('Done', n)\n",
    "    n += 1"
   ]
  },
  {
   "cell_type": "code",
   "execution_count": 9,
   "metadata": {},
   "outputs": [
    {
     "name": "stdout",
     "output_type": "stream",
     "text": [
      "Done\n"
     ]
    }
   ],
   "source": [
    "u_image = 'https://www.mayoclinic.org/-/media/kcms/gbs/patient-consumer/images/2013/08/26/09/59/ds00890-sn7_wrinklesthu_jpg.jpg'\n",
    "response = requests.get(u_image)\n",
    "loc = image_dir  + os.path.basename(u_image) + '.jpg'\n",
    "with open(loc, 'wb') as file:\n",
    "    file.write(response.content)\n",
    "print('Done')"
   ]
  },
  {
   "cell_type": "code",
   "execution_count": null,
   "metadata": {},
   "outputs": [],
   "source": []
  }
 ],
 "metadata": {
  "kernelspec": {
   "display_name": "Python 3",
   "language": "python",
   "name": "python3"
  },
  "language_info": {
   "codemirror_mode": {
    "name": "ipython",
    "version": 3
   },
   "file_extension": ".py",
   "mimetype": "text/x-python",
   "name": "python",
   "nbconvert_exporter": "python",
   "pygments_lexer": "ipython3",
   "version": "3.11.2"
  },
  "orig_nbformat": 4
 },
 "nbformat": 4,
 "nbformat_minor": 2
}
